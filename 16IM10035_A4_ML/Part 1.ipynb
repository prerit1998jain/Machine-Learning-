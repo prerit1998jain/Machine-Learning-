{
 "cells": [
  {
   "cell_type": "code",
   "execution_count": 1,
   "metadata": {},
   "outputs": [],
   "source": [
    "import pandas as pd\n",
    "import numpy as np\n",
    "import nltk\n",
    "from nltk.tokenize import word_tokenize\n",
    "from nltk.tokenize import RegexpTokenizer\n",
    "from nltk.corpus import stopwords\n",
    "from nltk.stem import PorterStemmer\n",
    "import re\n",
    "from string import digits"
   ]
  },
  {
   "cell_type": "code",
   "execution_count": 2,
   "metadata": {},
   "outputs": [],
   "source": [
    "file = open(\"Assignment_4_data.txt\",\"r\")\n",
    "labels = []\n",
    "text = []\n",
    "count = 0\n",
    "for i in file.read().split('\\n'):\n",
    "    count+=1\n",
    "    j = i.split(\"\t\")\n",
    "    if(len(j)!=2):\n",
    "        break\n",
    "    labels.append(j[0])\n",
    "    text.append(j[1]) "
   ]
  },
  {
   "cell_type": "code",
   "execution_count": 3,
   "metadata": {},
   "outputs": [],
   "source": [
    "ps = PorterStemmer()"
   ]
  },
  {
   "cell_type": "code",
   "execution_count": 4,
   "metadata": {},
   "outputs": [],
   "source": [
    "def preprocess(text):\n",
    "    #Break each sentence into tokens\n",
    "    #Remove rem words\n",
    "    #Use Porter Stemmer\n",
    "    rem_words = ['i', 'me', 'my', 'myself', 'we', 'our', 'ours', 'ourselves', 'you', \"you're\", \"you've\", \"you'll\", \"you'd\", 'your', 'yours', 'yourself', 'yourselves', 'he', 'him', 'his', 'himself', 'she', \"she's\", 'her', 'hers', 'herself', 'it', \"it's\", 'its', 'itself', 'they', 'them', 'their', 'theirs', 'themselves', 'what', 'which', 'who', 'whom', 'this', 'that', \"that'll\", 'these', 'those', 'am', 'is', 'are', 'was', 'were', 'be', 'been', 'being', 'have', 'has', 'had', 'having', 'do', 'does', 'did', 'doing', 'a', 'an', 'the', 'and', 'but', 'if', 'or', 'because', 'as', 'until', 'while', 'of', 'at', 'by', 'for', 'with', 'about', 'against', 'between', 'into', 'through', 'during', 'before', 'after', 'above', 'below', 'to', 'from', 'up', 'down', 'in', 'out', 'on', 'off', 'over', 'under', 'again', 'further', 'then', 'once', 'here', 'there', 'when', 'where', 'why', 'how', 'all', 'any', 'both', 'each', 'few', 'more', 'most', 'other', 'some', 'such', 'no', 'nor', 'not', 'only', 'own', 'same', 'so', 'than', 'too', 'very', 's', 't', 'can', 'will', 'just', 'don', \"don't\", 'should', \"should've\", 'now', 'd', 'll', 'm', 'o', 're', 've', 'y', 'ain', 'aren', \"aren't\", 'couldn', \"couldn't\", 'didn', \"didn't\", 'doesn', \"doesn't\", 'hadn', \"hadn't\", 'hasn', \"hasn't\", 'haven', \"haven't\", 'isn', \"isn't\", 'ma', 'mightn', \"mightn't\", 'mustn', \"mustn't\", 'needn', \"needn't\", 'shan', \"shan't\", 'shouldn', \"shouldn't\", 'wasn', \"wasn't\", 'weren', \"weren't\", 'won', \"won't\", 'wouldn', \"wouldn't\"]\n",
    "    vocab = []\n",
    "    exceptions = ['.', ',', '?', '!', ':', ';', '\\'t', \"'s\",')','(','\"',']','[','\\'',\"#\",\"*\",'&','+','-','$','>','<','£']\n",
    "    sw = stopwords.words(\"english\")\n",
    "    remove_digits = str.maketrans('', '', digits)\n",
    "    for i in range(0,len(text)):\n",
    "        text[i] = text[i].lower() \n",
    "        word_list = word_tokenize(text[i])\n",
    "        final_word_list = []\n",
    "        count = 0\n",
    "        for j in range(0,len(word_list)):\n",
    "            if(word_list[j] not in rem_words and word_list[j] not in sw):\n",
    "                for chars in exceptions:\n",
    "                    word_list[j] = word_list[j].replace(chars,\"\")\n",
    "                word_list[j] = word_list[j].translate(remove_digits)\n",
    "                word_list[j] = ps.stem(word_list[j])\n",
    "                if(len(word_list[j])!=0):\n",
    "                    final_word_list.append(word_list[j])\n",
    "                    count +=1\n",
    "                if(count >0 and final_word_list[count-1] not in vocab):\n",
    "                    vocab.append(final_word_list[count-1])\n",
    "        text[i] = final_word_list\n",
    "    return vocab"
   ]
  },
  {
   "cell_type": "code",
   "execution_count": 5,
   "metadata": {},
   "outputs": [],
   "source": [
    "vocabulary = preprocess(text)"
   ]
  },
  {
   "cell_type": "code",
   "execution_count": 6,
   "metadata": {},
   "outputs": [],
   "source": [
    "def doc_vec(text,vocab):\n",
    "    N = len(vocab)\n",
    "    for i in range(0,len(text)):\n",
    "        one_hot = np.zeros(N)\n",
    "        for j in text[i]:\n",
    "            indices = vocab.index(j)\n",
    "            one_hot[indices] = 1\n",
    "        text[i] = one_hot\n",
    "    return text\n",
    "        "
   ]
  },
  {
   "cell_type": "code",
   "execution_count": 8,
   "metadata": {},
   "outputs": [],
   "source": [
    "text = doc_vec(text,vocabulary)\n",
    "#print(text)"
   ]
  },
  {
   "cell_type": "code",
   "execution_count": 11,
   "metadata": {},
   "outputs": [],
   "source": [
    "def data(text):\n",
    "    value = list(range(0,len(text)))\n",
    "    np.random.shuffle(value)\n",
    "    last_index = int(0.8*len(value))\n",
    "    train = (np.array(value[:last_index + 1])).reshape(-1,446)\n",
    "    test = (np.array(value[last_index+1:])).reshape(1,-1)\n",
    "    return train,test"
   ]
  },
  {
   "cell_type": "code",
   "execution_count": 12,
   "metadata": {},
   "outputs": [],
   "source": [
    "train,test = data(text)\n",
    "#print(len(train[0]))"
   ]
  },
  {
   "cell_type": "code",
   "execution_count": 19,
   "metadata": {},
   "outputs": [],
   "source": [
    "input_dim = len(vocabulary)         # input dimension\n",
    "hidden_1_dim = 100                  # hidden layer 1 dimension\n",
    "output_dim = 1                      # output dimension\n",
    "learning_rate = 1e-5                # Learning Rate\n"
   ]
  },
  {
   "cell_type": "code",
   "execution_count": 20,
   "metadata": {},
   "outputs": [],
   "source": [
    "############## Random Initializations of the weights ##################\n",
    "def weight_init():\n",
    "    W1 = np.random.normal(-1,1,(input_dim,hidden_1_dim))\n",
    "    W2 = np.random.normal(-1,1,(hidden_1_dim,output_dim))\n",
    "    return W1,W2\n"
   ]
  },
  {
   "cell_type": "code",
   "execution_count": 30,
   "metadata": {},
   "outputs": [],
   "source": [
    "def net_implement(x_batch,W1,W2,y,learning_rate,i_iter,loss_list):\n",
    "    #Forward Pass\n",
    "    a1 = x_batch @ W1\n",
    "    h1 = np.maximum(0,a1)\n",
    "    a2 = h1 @ W2\n",
    "    h2 = 1/(1 + np.exp(-1*a2))\n",
    "    \n",
    "    #Loss Calculation\n",
    "    loss = -1*(y*np.log(h2 + 0.0000025) + (1-y)*np.log(1-h2 + 0.0000025))\n",
    "    \n",
    "    \n",
    "    #Gradient Calculation\n",
    "    grad_a2 = y*(h2-1) + (1-y)*h2\n",
    "    grad_W2 = np.matmul(h1.transpose(), grad_a2)\n",
    "    grad_h1 = np.matmul(grad_a2,W2.transpose())\n",
    "    grad_a1 = np.zeros(a1.shape)\n",
    "    grad_a1[a1 > 0] = grad_h1[a1 > 0]\n",
    "    grad_W1 = np.matmul(x_batch.transpose(),grad_a1)\n",
    "    \n",
    "    #Weight Updations\n",
    "    W2 -= learning_rate * grad_W2\n",
    "    W1 -= learning_rate * grad_W1\n",
    "    \n",
    "    return np.mean(loss)"
   ]
  },
  {
   "cell_type": "code",
   "execution_count": 31,
   "metadata": {},
   "outputs": [],
   "source": [
    "def training_network(train,labels,text):\n",
    "    no_of_iterations = 1000\n",
    "    loss_list = []\n",
    "    #Initialization of weights\n",
    "    W1,W2 = weight_init()\n",
    "    for i_iter in range(no_of_iterations):\n",
    "        loss = 0\n",
    "        for i in train:\n",
    "            x_batch = []\n",
    "            y_batch = []\n",
    "            for index in i:\n",
    "                x_batch.append(text[index])\n",
    "                if(labels[index] == 'ham'):\n",
    "                    y_batch.append(1)\n",
    "                else:\n",
    "                    y_batch.append(0)\n",
    "            x_batch = (np.array(x_batch)).reshape(i.shape[0],-1)\n",
    "            y_batch = (np.array(y_batch)).reshape(i.shape[0],-1)\n",
    "            loss += net_implement(x_batch,W1,W2,y_batch,0.1,i_iter,loss_list)\n",
    "        print(loss)\n",
    "        loss_list.append(loss)\n",
    "        return(W1,W2)"
   ]
  },
  {
   "cell_type": "code",
   "execution_count": 32,
   "metadata": {
    "scrolled": true
   },
   "outputs": [
    {
     "name": "stdout",
     "output_type": "stream",
     "text": [
      "8.03202770964219\n"
     ]
    }
   ],
   "source": [
    "w1,w2 = training_network(train,labels,text)"
   ]
  },
  {
   "cell_type": "code",
   "execution_count": null,
   "metadata": {},
   "outputs": [],
   "source": []
  }
 ],
 "metadata": {
  "kernelspec": {
   "display_name": "Python 3",
   "language": "python",
   "name": "python3"
  },
  "language_info": {
   "codemirror_mode": {
    "name": "ipython",
    "version": 3
   },
   "file_extension": ".py",
   "mimetype": "text/x-python",
   "name": "python",
   "nbconvert_exporter": "python",
   "pygments_lexer": "ipython3",
   "version": "3.7.1"
  }
 },
 "nbformat": 4,
 "nbformat_minor": 2
}
