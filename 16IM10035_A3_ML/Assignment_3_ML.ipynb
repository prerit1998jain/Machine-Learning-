{
 "cells": [
  {
   "cell_type": "code",
   "execution_count": 1,
   "metadata": {},
   "outputs": [],
   "source": [
    "import pandas as pd \n",
    "import numpy as np "
   ]
  },
  {
   "cell_type": "code",
   "execution_count": 2,
   "metadata": {},
   "outputs": [],
   "source": [
    "data = pd.read_csv('AAAI.csv')"
   ]
  },
  {
   "cell_type": "code",
   "execution_count": 3,
   "metadata": {
    "scrolled": true
   },
   "outputs": [],
   "source": [
    "topic = []\n",
    "for i in range(len(data)):\n",
    "    topic.append(data['Topics'][i].split(\"\\n\"))\n",
    "#print(topic)\n"
   ]
  },
  {
   "cell_type": "code",
   "execution_count": 4,
   "metadata": {},
   "outputs": [],
   "source": [
    "def jaccard_coff(a,b):\n",
    "    intersection = len(set(a).intersection(set(b)))\n",
    "    union = len(set(a).union(set(a)))\n",
    "    return(intersection/union)\n"
   ]
  },
  {
   "cell_type": "code",
   "execution_count": 5,
   "metadata": {},
   "outputs": [],
   "source": [
    "def maximum(matrix1):\n",
    "    max1=-5\n",
    "    k1=-1\n",
    "    k2=-1\n",
    "    for i in range(len(matrix1)):\n",
    "        for j in range(len(matrix1)):\n",
    "            if(matrix1[i][j]>=max1):\n",
    "                max1=matrix1[i][j]\n",
    "                k1=i\n",
    "                k2=j\n",
    "    return k1,k2 "
   ]
  },
  {
   "cell_type": "code",
   "execution_count": 6,
   "metadata": {},
   "outputs": [
    {
     "name": "stdout",
     "output_type": "stream",
     "text": [
      "(150, 150)\n"
     ]
    }
   ],
   "source": [
    "similarity_matrix = []\n",
    "score = []\n",
    "for i in (range(len(topic))):\n",
    "    for j in range(len(topic)):\n",
    "        if(i == j):\n",
    "            score.append(-1)\n",
    "        else:\n",
    "            score.append(jaccard_coff(topic[i],topic[j]))\n",
    "    similarity_matrix.append(score)\n",
    "    score = []\n",
    "    \n",
    "print(np.shape(similarity_matrix))"
   ]
  },
  {
   "cell_type": "code",
   "execution_count": 7,
   "metadata": {},
   "outputs": [],
   "source": [
    "def complete_linkage(cluster1, cluster2):\n",
    "    list = []\n",
    "    for i in range(len(cluster1)):\n",
    "        for j in range(len(cluster2)):\n",
    "            list.append(jaccard_coff(cluster1[i],cluster2[j]))\n",
    "            #print(jaccard_coff(i,j))\n",
    "    #print(len(list))\n",
    "    return(min(list))\n",
    "    "
   ]
  },
  {
   "cell_type": "code",
   "execution_count": 8,
   "metadata": {},
   "outputs": [
    {
     "data": {
      "text/plain": [
       "0.0"
      ]
     },
     "execution_count": 8,
     "metadata": {},
     "output_type": "execute_result"
    }
   ],
   "source": [
    "list1 = []\n",
    "list2 = []\n",
    "list1.append(topic[1])\n",
    "list1.append(topic[2])\n",
    "list2.append(topic[3])\n",
    "list2.append(topic[4])\n",
    "complete_linkage(list1,list2)"
   ]
  },
  {
   "cell_type": "code",
   "execution_count": 9,
   "metadata": {},
   "outputs": [],
   "source": [
    "def split1(list1):\n",
    "    list2=[]\n",
    "    list3=[]\n",
    "    for i in range(len(list1)):\n",
    "            list2.append(list1[i])\n",
    "    list3.append(list2)\n",
    "    return list3"
   ]
  },
  {
   "cell_type": "code",
   "execution_count": 10,
   "metadata": {},
   "outputs": [],
   "source": [
    "def single_linkage(cluster1, cluster2):\n",
    "    list = []\n",
    "    for i in range(len(cluster1)):\n",
    "        for j in range(len(cluster2)):\n",
    "            list.append(jaccard_coff(cluster1[i],cluster2[j]))\n",
    "            #print(jaccard_coff(i,j))\n",
    "    #print(len(list))\n",
    "    return(max(list))\n",
    "        "
   ]
  },
  {
   "cell_type": "code",
   "execution_count": 11,
   "metadata": {},
   "outputs": [],
   "source": [
    "def hier_clust(topic,n, method):\n",
    "    cluster = [k for k in range(len(topic))]\n",
    "    while(len(topic)>n):\n",
    "        cluster1 = []\n",
    "        topic1 = []\n",
    "        score = []\n",
    "        mat = []\n",
    "        #print(len(topic))\n",
    "        for i in range(len(topic)):\n",
    "            score = []\n",
    "            for j in (range(len(topic))):\n",
    "                if(i!=j):\n",
    "                    if(method == 'single_linkage'):\n",
    "                        value = (single_linkage((topic[i]),(topic[j])))\n",
    "                        score.append(value)\n",
    "                    if(method == 'complete_linkage'):\n",
    "                        value = (complete_linkage(split1(topic[i]),split1(topic[j])))\n",
    "                        score.append(value)\n",
    "                else:\n",
    "                    score.append(-1)\n",
    "            mat.append(score)\n",
    "            max_i,max_j = maximum(mat)\n",
    "            #print(score)\n",
    "            score = []\n",
    "        print(max_i,max_j)\n",
    "        cluster1.append(max_i)\n",
    "        topic1.append(topic[max_i])\n",
    "        cluster1.append(max_j)\n",
    "        topic1.append(topic[max_j])\n",
    "        cluster.remove(max_i)\n",
    "        topic.remove(topic[max_i])\n",
    "        cluster.remove(max_j)\n",
    "        topic.remove(topic[max_j])\n",
    "        cluster.append(cluster1)\n",
    "        topic.append(topic1)\n",
    "        print(topic)\n",
    "        #print(len(topic))\n",
    "    return(cluster)\n",
    "            \n",
    "            \n",
    "            "
   ]
  },
  {
   "cell_type": "code",
   "execution_count": 12,
   "metadata": {
    "scrolled": true
   },
   "outputs": [
    {
     "name": "stdout",
     "output_type": "stream",
     "text": [
      "149 125\n",
      "[['Auctions and Market-Based Systems', 'E-Commerce', 'Game Theory', 'Mechanism Design'], ['Dimension Reduction/Feature Selection', 'Online Learning', 'Reinforcement Learning', 'Sequential Decision Making'], ['Coordination and Collaboration', 'Game Theory'], ['Heuristic Search', 'Evaluation and Analysis (Search and Optimization)', 'Search (General/Other)'], ['Auctions and Market-Based Systems', 'E-Commerce', 'Mechanism Design'], ['Vision, Object Recognition, and Perception'], ['Relational/Graph-Based Learning', 'Semisupervised Learning'], ['Action, Change, and Causality'], ['Mechanism Design', 'Social Choice / Voting'], ['Search (General/Other)', 'Information Retrieval', 'Machine Learning (General/other)'], ['Distributed Problem Solving', 'Computational Social Science', 'Decision/Utility Theory'], ['Cognitive Modeling'], ['Big Data / Scalability', 'Machine Learning (General/other)', 'Probabilistic Inference', 'Relational Probabilistic Models'], ['SAT and CSP: Solvers and Tools', 'Heuristic Search', 'Constraint Satisfaction'], ['Bayesian Learning', 'Data Mining and Knowledge Discovery', 'Graphical Model Learning', 'Unsupervised Learning (Other)'], ['Action, Change, and Causality', 'Bayesian Networks'], ['Preferences/Ranking Learning'], ['Social Choice / Voting'], ['E-Commerce', 'Game Theory', 'Mechanism Design', 'Uncertainty in AI (General/Other)'], ['Game Theory', 'Mechanism Design', 'Social Choice / Voting'], ['Coordination and Collaboration', 'Game Theory', 'Mechanism Design', 'Social Networks'], ['Constraint Optimization', 'Optimization', 'Ontologies', 'Clustering', 'Unsupervised Learning (Other)', 'Machine Learning (General/other)', 'Constraint Satisfaction'], ['Clustering', 'Data Mining and Knowledge Discovery'], ['Bayesian Networks', 'Graphical Models (Other)', 'Probabilistic Inference'], ['Negotiation and Contract-Based Systems', 'Human-Computer Interaction'], ['Classification'], ['Constraint Optimization', 'SAT and CSP: Evaluation and Analysis', 'SAT and CSP: Modeling/Formulations', 'SAT and CSP: Solvers and Tools', 'Graphical Models (Other)', 'Probabilistic Inference', 'Relational Probabilistic Models'], ['Online Learning', 'E-Commerce'], ['Nonmonotonic Reasoning', 'Preferences', 'Qualitative Reasoning'], ['Game Theory'], ['Heuristic Search', 'Evaluation and Analysis (Search and Optimization)', 'Search (General/Other)'], ['Preferences', 'Social Choice / Voting'], ['Dimension Reduction/Feature Selection', 'Transfer, Adaptation, Multitask Learning', 'Machine Learning (General/other)'], ['Other Applications', 'Human-Computer Interaction', 'Vision, Object Recognition, and Perception'], ['Automated Reasoning and Theorem Proving', 'Uncertainty in AI (General/Other)'], ['Action, Change, and Causality'], ['Big Data / Scalability', 'Kernel Methods', 'Online Learning'], ['Computational Social Science', 'Human-Computer Interaction'], ['Optimization', 'Other Applications', 'Deterministic Planning', 'Planning (General/Other)'], ['Negotiation and Contract-Based Systems', 'Multiagent Systems (General/other)'], ['Bayesian Learning', 'Clustering', 'Unsupervised Learning (Other)'], ['Classification'], ['Dimension Reduction/Feature Selection', 'Neural Networks/Deep Learning', 'Unsupervised Learning (Other)', 'Machine Learning (General/other)'], ['Heuristic Search', 'Optimization', 'Dimension Reduction/Feature Selection'], ['Information Retrieval', 'Biomedical / Bioinformatics', 'Social Networks'], ['Clustering', 'Evaluation and Analysis (Machine Learning)'], ['Data Mining and Knowledge Discovery', 'AI and Natural Sciences'], ['Constraint Satisfaction (General/other)', 'Constraint Satisfaction'], ['SAT and CSP: Solvers and Tools', 'Heuristic Search', 'Logic Programming', 'Knowledge Representation (General/Other)'], ['Social Choice / Voting'], ['Coordination and Collaboration', 'Multiagent Systems (General/other)'], ['Optimization', 'Clustering', 'Kernel Methods'], ['Distributed Search', 'Mechanism Design', 'Multiagent Planning', 'Deterministic Planning'], ['Constraint Optimization', 'Constraint Satisfaction (General/other)', 'Geometric, Spatial, and Temporal Reasoning', 'Scheduling'], ['Unsupervised Learning (Other)', 'Machine Learning (General/other)'], ['Game Theory', 'Social Choice / Voting'], ['Human-Robot Interaction', 'Vision, Object Recognition, and Perception'], ['Discourse and Dialogue', 'Semantics and Summarization', 'Natural Language Processing (General/Other)'], ['Multiagent Planning', 'Planning (General/Other)'], ['Action, Change, and Causality', 'Belief Change', 'Reasoning with Beliefs'], ['Data Mining and Knowledge Discovery', 'Social Networks'], ['Intelligent User Interfaces', 'Other Multidisciplinary Topics', 'Natural Language Processing (General/Other)'], ['Action, Change, and Causality', 'Knowledge Representation (General/Other)', 'Games and Game Playing'], ['Classification', 'Supervised Learning (Other)', 'Machine Learning (General/other)'], ['Text Classification', 'Natural Language Processing (General/Other)'], ['Preferences/Ranking Learning', 'Supervised Learning (Other)', 'Machine Learning (General/other)'], ['SAT and CSP: Evaluation and Analysis', 'Constraint Satisfaction'], ['Game Theory', 'Multiagent Learning'], ['Preferences', 'Social Choice / Voting'], ['Kernel Methods'], ['E-Commerce', 'Evaluation and Analysis (Multiagent Systems)', 'Multiagent Systems (General/other)'], ['Heuristic Search', 'Deterministic Planning'], ['Classification', 'Ensemble Methods', 'Kernel Methods', 'Semisupervised Learning'], ['Geometric, Spatial, and Temporal Reasoning', 'Temporal Planning', 'Constraint Satisfaction'], ['Logic Programming', 'Nonmonotonic Reasoning'], ['Global Constraints', 'Art and Music', 'Interactive Entertainment', 'Natural Language Processing (General/Other)', 'Constraint Satisfaction'], ['E-Commerce', 'Game Theory', 'Mechanism Design', 'Multiagent Systems (General/other)'], ['Ontologies', 'Knowledge-Based Systems (General/Other)', 'Computational Complexity of Reasoning', 'Description Logics'], ['Semantics and Summarization'], ['Mechanism Design', 'Sequential Decision Making'], ['Classification', 'Preferences/Ranking Learning'], ['Logic Programming', 'Nonmonotonic Reasoning'], ['Agent Communication', 'Planning (General/Other)'], ['Constraint Satisfaction (General/other)'], ['Data Mining and Knowledge Discovery'], ['Graphical Models (Other)', 'Probabilistic Inference', 'Relational Probabilistic Models'], ['Game Theory', 'Multiagent Learning', 'Evaluation and Analysis (Multiagent Systems)', 'Multiagent Systems (General/other)'], ['Bayesian Learning', 'Auctions and Market-Based Systems', 'Coordination and Collaboration', 'Game Theory', 'Mechanism Design', 'Computational Social Science', 'Human-Computer Interaction', 'Decision/Utility Theory', 'Probabilistic Inference', 'Uncertainty in AI (General/Other)'], ['Constraint Satisfaction'], ['Active Learning', 'Classification'], ['Information Extraction', 'Natural Language Processing (General/Other)'], ['Classification', 'Structured Prediction'], ['Knowledge Representation (General/Other)'], ['Cognitive Modeling', 'Vision, Object Recognition, and Perception', 'Robotics (General/Other)'], ['Classification', 'Supervised Learning (Other)', 'Computer-Aided Education', 'Cognitive Modeling'], ['Game Theory'], ['Coordination and Collaboration', 'Game Theory'], ['Preferences/Ranking Learning', 'Relational/Graph-Based Learning', 'Computational Social Science'], ['Optimization', 'Evolutionary Computation', 'Supervised Learning (Other)', 'Games and Game Playing'], ['Constraint Optimization', 'Heuristic Search', 'Optimization', 'Metareasoning and Metaheuristics', 'Evaluation and Analysis (Search and Optimization)', 'Search (General/Other)', 'Biomedical / Bioinformatics'], ['Structured Prediction'], ['Relational/Graph-Based Learning'], ['Optimization', 'Dimension Reduction/Feature Selection', 'Supervised Learning (Other)'], ['Dimension Reduction/Feature Selection', 'Unsupervised Learning (Other)'], ['Data Mining and Knowledge Discovery', 'Transfer, Adaptation, Multitask Learning'], ['Computational Complexity of Reasoning', 'Case-Based Reasoning', 'Replanning and Plan Repair', 'Planning (General/Other)'], ['Reinforcement Learning', 'Sequential Decision Making'], ['Diagnosis and Abductive Reasoning', 'Reasoning with Beliefs', 'Bayesian Learning', 'Uncertainty in AI (General/Other)'], ['Scheduling', 'Temporal Planning', 'Planning (General/Other)'], ['Classification', 'Kernel Methods', 'Supervised Learning (Other)'], ['Clustering', 'Data Mining and Knowledge Discovery'], ['Classification', 'Dimension Reduction/Feature Selection', 'Biomedical / Bioinformatics'], ['Metareasoning and Metaheuristics', 'Common-Sense Reasoning', 'Knowledge Representation Languages', 'Logic Programming', 'Nonmonotonic Reasoning'], ['SAT and CSP: Solvers and Tools', 'Satisfiability (General/Other)'], ['Machine Learning (General/other)', 'Cognitive Robotics', 'Vision, Object Recognition, and Perception', 'Robotics (General/Other)'], ['Data Mining and Knowledge Discovery', 'Unsupervised Learning (Other)', 'Natural Language Processing (General/Other)'], ['Agent/AI Theories and Architectures', 'Evaluation and Analysis (Multiagent Systems)', 'Multiagent Systems (General/other)'], ['Reinforcement Learning', 'Multiagent Learning', 'Multiagent Planning'], ['Computational Complexity of Reasoning', 'Bayesian Networks', 'Graphical Models (Other)'], ['Machine Learning (General/other)', 'Natural Language Processing (General/Other)', 'Vision, Object Recognition, and Perception'], ['Common-Sense Reasoning', 'Diagnosis and Abductive Reasoning', 'Planning (General/Other)'], ['Evaluation and Analysis (Multiagent Systems)', 'Human-Computer Interaction', 'Security and Privacy'], ['Action, Change, and Causality', 'Diagnosis and Abductive Reasoning', 'Other Applications', 'Model-Based Reasoning', 'Planning (General/Other)'], ['Game Theory', 'Multiagent Systems (General/other)'], ['Coordination and Collaboration', 'Distributed Problem Solving', 'Scheduling', 'Temporal Planning'], ['Transfer, Adaptation, Multitask Learning', 'Coordination and Collaboration', 'Multiagent Learning'], ['SAT and CSP: Evaluation and Analysis', 'SAT and CSP: Solvers and Tools', 'Evaluation and Analysis (Search and Optimization)'], ['Action, Change, and Causality', 'Geometric, Spatial, and Temporal Reasoning', 'Classification', 'Clustering', 'Learning Models for Planning and Diagnosis'], ['Heuristic Search', 'Replanning and Plan Repair', 'Motion and Path Planning'], ['Information Extraction'], ['Logic Programming', 'Nonmonotonic Reasoning', 'Multi-Robot Systems'], ['Reinforcement Learning', 'Coordination and Collaboration', 'Multiagent Learning'], ['Reinforcement Learning', 'Multiagent Learning'], ['SAT and CSP: Evaluation and Analysis', 'SAT and CSP: Solvers and Tools', 'Satisfiability (General/Other)'], ['Social Choice / Voting'], ['Optimization', 'Game Theory'], ['Reinforcement Learning'], ['Reinforcement Learning'], ['Planning (General/Other)', 'Uncertainty in AI (General/Other)'], ['Agent-based Simulation and Emergent Behavior', 'Computational Social Science', 'Social Networks'], ['Unsupervised Learning (Other)', 'Natural Language Processing (General/Other)'], ['Case-Based Reasoning', 'Deterministic Planning', 'Planning (General/Other)'], ['Active Learning', 'Transfer, Adaptation, Multitask Learning'], ['Big Data / Scalability', 'Graphical Model Learning', 'Structured Prediction'], ['Information Extraction', 'Question Answering', 'Natural Language Processing (General/Other)'], ['Game Theory', 'Mechanism Design'], ['Natural Language Processing (General/Other)'], ['Natural Language Processing (General/Other)', 'Robotics (General/Other)'], [['Knowledge-Based Systems (General/Other)', 'Machine Learning (General/other)', 'Interactive Entertainment', 'Cognitive Modeling'], ['Optimization', 'Online Learning', 'Time-Series/Data Streams', 'Machine Learning (General/other)', 'Other Applications']]]\n"
     ]
    },
    {
     "name": "stdout",
     "output_type": "stream",
     "text": [
      "147 146\n",
      "[['Auctions and Market-Based Systems', 'E-Commerce', 'Game Theory', 'Mechanism Design'], ['Dimension Reduction/Feature Selection', 'Online Learning', 'Reinforcement Learning', 'Sequential Decision Making'], ['Coordination and Collaboration', 'Game Theory'], ['Heuristic Search', 'Evaluation and Analysis (Search and Optimization)', 'Search (General/Other)'], ['Auctions and Market-Based Systems', 'E-Commerce', 'Mechanism Design'], ['Vision, Object Recognition, and Perception'], ['Relational/Graph-Based Learning', 'Semisupervised Learning'], ['Action, Change, and Causality'], ['Mechanism Design', 'Social Choice / Voting'], ['Search (General/Other)', 'Information Retrieval', 'Machine Learning (General/other)'], ['Distributed Problem Solving', 'Computational Social Science', 'Decision/Utility Theory'], ['Cognitive Modeling'], ['Big Data / Scalability', 'Machine Learning (General/other)', 'Probabilistic Inference', 'Relational Probabilistic Models'], ['SAT and CSP: Solvers and Tools', 'Heuristic Search', 'Constraint Satisfaction'], ['Bayesian Learning', 'Data Mining and Knowledge Discovery', 'Graphical Model Learning', 'Unsupervised Learning (Other)'], ['Action, Change, and Causality', 'Bayesian Networks'], ['Preferences/Ranking Learning'], ['Social Choice / Voting'], ['E-Commerce', 'Game Theory', 'Mechanism Design', 'Uncertainty in AI (General/Other)'], ['Game Theory', 'Mechanism Design', 'Social Choice / Voting'], ['Coordination and Collaboration', 'Game Theory', 'Mechanism Design', 'Social Networks'], ['Constraint Optimization', 'Optimization', 'Ontologies', 'Clustering', 'Unsupervised Learning (Other)', 'Machine Learning (General/other)', 'Constraint Satisfaction'], ['Clustering', 'Data Mining and Knowledge Discovery'], ['Bayesian Networks', 'Graphical Models (Other)', 'Probabilistic Inference'], ['Negotiation and Contract-Based Systems', 'Human-Computer Interaction'], ['Classification'], ['Constraint Optimization', 'SAT and CSP: Evaluation and Analysis', 'SAT and CSP: Modeling/Formulations', 'SAT and CSP: Solvers and Tools', 'Graphical Models (Other)', 'Probabilistic Inference', 'Relational Probabilistic Models'], ['Online Learning', 'E-Commerce'], ['Nonmonotonic Reasoning', 'Preferences', 'Qualitative Reasoning'], ['Game Theory'], ['Heuristic Search', 'Evaluation and Analysis (Search and Optimization)', 'Search (General/Other)'], ['Preferences', 'Social Choice / Voting'], ['Dimension Reduction/Feature Selection', 'Transfer, Adaptation, Multitask Learning', 'Machine Learning (General/other)'], ['Other Applications', 'Human-Computer Interaction', 'Vision, Object Recognition, and Perception'], ['Automated Reasoning and Theorem Proving', 'Uncertainty in AI (General/Other)'], ['Action, Change, and Causality'], ['Big Data / Scalability', 'Kernel Methods', 'Online Learning'], ['Computational Social Science', 'Human-Computer Interaction'], ['Optimization', 'Other Applications', 'Deterministic Planning', 'Planning (General/Other)'], ['Negotiation and Contract-Based Systems', 'Multiagent Systems (General/other)'], ['Bayesian Learning', 'Clustering', 'Unsupervised Learning (Other)'], ['Classification'], ['Dimension Reduction/Feature Selection', 'Neural Networks/Deep Learning', 'Unsupervised Learning (Other)', 'Machine Learning (General/other)'], ['Heuristic Search', 'Optimization', 'Dimension Reduction/Feature Selection'], ['Information Retrieval', 'Biomedical / Bioinformatics', 'Social Networks'], ['Clustering', 'Evaluation and Analysis (Machine Learning)'], ['Data Mining and Knowledge Discovery', 'AI and Natural Sciences'], ['Constraint Satisfaction (General/other)', 'Constraint Satisfaction'], ['SAT and CSP: Solvers and Tools', 'Heuristic Search', 'Logic Programming', 'Knowledge Representation (General/Other)'], ['Social Choice / Voting'], ['Coordination and Collaboration', 'Multiagent Systems (General/other)'], ['Optimization', 'Clustering', 'Kernel Methods'], ['Distributed Search', 'Mechanism Design', 'Multiagent Planning', 'Deterministic Planning'], ['Constraint Optimization', 'Constraint Satisfaction (General/other)', 'Geometric, Spatial, and Temporal Reasoning', 'Scheduling'], ['Unsupervised Learning (Other)', 'Machine Learning (General/other)'], ['Game Theory', 'Social Choice / Voting'], ['Human-Robot Interaction', 'Vision, Object Recognition, and Perception'], ['Discourse and Dialogue', 'Semantics and Summarization', 'Natural Language Processing (General/Other)'], ['Multiagent Planning', 'Planning (General/Other)'], ['Action, Change, and Causality', 'Belief Change', 'Reasoning with Beliefs'], ['Data Mining and Knowledge Discovery', 'Social Networks'], ['Intelligent User Interfaces', 'Other Multidisciplinary Topics', 'Natural Language Processing (General/Other)'], ['Action, Change, and Causality', 'Knowledge Representation (General/Other)', 'Games and Game Playing'], ['Classification', 'Supervised Learning (Other)', 'Machine Learning (General/other)'], ['Text Classification', 'Natural Language Processing (General/Other)'], ['Preferences/Ranking Learning', 'Supervised Learning (Other)', 'Machine Learning (General/other)'], ['SAT and CSP: Evaluation and Analysis', 'Constraint Satisfaction'], ['Game Theory', 'Multiagent Learning'], ['Preferences', 'Social Choice / Voting'], ['Kernel Methods'], ['E-Commerce', 'Evaluation and Analysis (Multiagent Systems)', 'Multiagent Systems (General/other)'], ['Heuristic Search', 'Deterministic Planning'], ['Classification', 'Ensemble Methods', 'Kernel Methods', 'Semisupervised Learning'], ['Geometric, Spatial, and Temporal Reasoning', 'Temporal Planning', 'Constraint Satisfaction'], ['Logic Programming', 'Nonmonotonic Reasoning'], ['Global Constraints', 'Art and Music', 'Interactive Entertainment', 'Natural Language Processing (General/Other)', 'Constraint Satisfaction'], ['E-Commerce', 'Game Theory', 'Mechanism Design', 'Multiagent Systems (General/other)'], ['Ontologies', 'Knowledge-Based Systems (General/Other)', 'Computational Complexity of Reasoning', 'Description Logics'], ['Semantics and Summarization'], ['Mechanism Design', 'Sequential Decision Making'], ['Classification', 'Preferences/Ranking Learning'], ['Logic Programming', 'Nonmonotonic Reasoning'], ['Agent Communication', 'Planning (General/Other)'], ['Constraint Satisfaction (General/other)'], ['Data Mining and Knowledge Discovery'], ['Graphical Models (Other)', 'Probabilistic Inference', 'Relational Probabilistic Models'], ['Game Theory', 'Multiagent Learning', 'Evaluation and Analysis (Multiagent Systems)', 'Multiagent Systems (General/other)'], ['Bayesian Learning', 'Auctions and Market-Based Systems', 'Coordination and Collaboration', 'Game Theory', 'Mechanism Design', 'Computational Social Science', 'Human-Computer Interaction', 'Decision/Utility Theory', 'Probabilistic Inference', 'Uncertainty in AI (General/Other)'], ['Constraint Satisfaction'], ['Active Learning', 'Classification'], ['Information Extraction', 'Natural Language Processing (General/Other)'], ['Classification', 'Structured Prediction'], ['Knowledge Representation (General/Other)'], ['Cognitive Modeling', 'Vision, Object Recognition, and Perception', 'Robotics (General/Other)'], ['Classification', 'Supervised Learning (Other)', 'Computer-Aided Education', 'Cognitive Modeling'], ['Game Theory'], ['Coordination and Collaboration', 'Game Theory'], ['Preferences/Ranking Learning', 'Relational/Graph-Based Learning', 'Computational Social Science'], ['Optimization', 'Evolutionary Computation', 'Supervised Learning (Other)', 'Games and Game Playing'], ['Constraint Optimization', 'Heuristic Search', 'Optimization', 'Metareasoning and Metaheuristics', 'Evaluation and Analysis (Search and Optimization)', 'Search (General/Other)', 'Biomedical / Bioinformatics'], ['Structured Prediction'], ['Relational/Graph-Based Learning'], ['Optimization', 'Dimension Reduction/Feature Selection', 'Supervised Learning (Other)'], ['Dimension Reduction/Feature Selection', 'Unsupervised Learning (Other)'], ['Data Mining and Knowledge Discovery', 'Transfer, Adaptation, Multitask Learning'], ['Computational Complexity of Reasoning', 'Case-Based Reasoning', 'Replanning and Plan Repair', 'Planning (General/Other)'], ['Reinforcement Learning', 'Sequential Decision Making'], ['Diagnosis and Abductive Reasoning', 'Reasoning with Beliefs', 'Bayesian Learning', 'Uncertainty in AI (General/Other)'], ['Scheduling', 'Temporal Planning', 'Planning (General/Other)'], ['Classification', 'Kernel Methods', 'Supervised Learning (Other)'], ['Clustering', 'Data Mining and Knowledge Discovery'], ['Classification', 'Dimension Reduction/Feature Selection', 'Biomedical / Bioinformatics'], ['Metareasoning and Metaheuristics', 'Common-Sense Reasoning', 'Knowledge Representation Languages', 'Logic Programming', 'Nonmonotonic Reasoning'], ['SAT and CSP: Solvers and Tools', 'Satisfiability (General/Other)'], ['Machine Learning (General/other)', 'Cognitive Robotics', 'Vision, Object Recognition, and Perception', 'Robotics (General/Other)'], ['Data Mining and Knowledge Discovery', 'Unsupervised Learning (Other)', 'Natural Language Processing (General/Other)'], ['Agent/AI Theories and Architectures', 'Evaluation and Analysis (Multiagent Systems)', 'Multiagent Systems (General/other)'], ['Reinforcement Learning', 'Multiagent Learning', 'Multiagent Planning'], ['Computational Complexity of Reasoning', 'Bayesian Networks', 'Graphical Models (Other)'], ['Machine Learning (General/other)', 'Natural Language Processing (General/Other)', 'Vision, Object Recognition, and Perception'], ['Common-Sense Reasoning', 'Diagnosis and Abductive Reasoning', 'Planning (General/Other)'], ['Evaluation and Analysis (Multiagent Systems)', 'Human-Computer Interaction', 'Security and Privacy'], ['Action, Change, and Causality', 'Diagnosis and Abductive Reasoning', 'Other Applications', 'Model-Based Reasoning', 'Planning (General/Other)'], ['Game Theory', 'Multiagent Systems (General/other)'], ['Coordination and Collaboration', 'Distributed Problem Solving', 'Scheduling', 'Temporal Planning'], ['Transfer, Adaptation, Multitask Learning', 'Coordination and Collaboration', 'Multiagent Learning'], ['SAT and CSP: Evaluation and Analysis', 'SAT and CSP: Solvers and Tools', 'Evaluation and Analysis (Search and Optimization)'], ['Action, Change, and Causality', 'Geometric, Spatial, and Temporal Reasoning', 'Classification', 'Clustering', 'Learning Models for Planning and Diagnosis'], ['Heuristic Search', 'Replanning and Plan Repair', 'Motion and Path Planning'], ['Information Extraction'], ['Logic Programming', 'Nonmonotonic Reasoning', 'Multi-Robot Systems'], ['Reinforcement Learning', 'Coordination and Collaboration', 'Multiagent Learning'], ['Reinforcement Learning', 'Multiagent Learning'], ['SAT and CSP: Evaluation and Analysis', 'SAT and CSP: Solvers and Tools', 'Satisfiability (General/Other)'], ['Social Choice / Voting'], ['Optimization', 'Game Theory'], ['Reinforcement Learning'], ['Reinforcement Learning'], ['Planning (General/Other)', 'Uncertainty in AI (General/Other)'], ['Agent-based Simulation and Emergent Behavior', 'Computational Social Science', 'Social Networks'], ['Unsupervised Learning (Other)', 'Natural Language Processing (General/Other)'], ['Case-Based Reasoning', 'Deterministic Planning', 'Planning (General/Other)'], ['Active Learning', 'Transfer, Adaptation, Multitask Learning'], ['Big Data / Scalability', 'Graphical Model Learning', 'Structured Prediction'], ['Information Extraction', 'Question Answering', 'Natural Language Processing (General/Other)'], ['Game Theory', 'Mechanism Design'], [['Knowledge-Based Systems (General/Other)', 'Machine Learning (General/other)', 'Interactive Entertainment', 'Cognitive Modeling'], ['Optimization', 'Online Learning', 'Time-Series/Data Streams', 'Machine Learning (General/other)', 'Other Applications']], [['Natural Language Processing (General/Other)', 'Robotics (General/Other)'], ['Natural Language Processing (General/Other)']]]\n"
     ]
    },
    {
     "name": "stdout",
     "output_type": "stream",
     "text": [
      "145 135\n",
      "[['Auctions and Market-Based Systems', 'E-Commerce', 'Game Theory', 'Mechanism Design'], ['Dimension Reduction/Feature Selection', 'Online Learning', 'Reinforcement Learning', 'Sequential Decision Making'], ['Coordination and Collaboration', 'Game Theory'], ['Heuristic Search', 'Evaluation and Analysis (Search and Optimization)', 'Search (General/Other)'], ['Auctions and Market-Based Systems', 'E-Commerce', 'Mechanism Design'], ['Vision, Object Recognition, and Perception'], ['Relational/Graph-Based Learning', 'Semisupervised Learning'], ['Action, Change, and Causality'], ['Mechanism Design', 'Social Choice / Voting'], ['Search (General/Other)', 'Information Retrieval', 'Machine Learning (General/other)'], ['Distributed Problem Solving', 'Computational Social Science', 'Decision/Utility Theory'], ['Cognitive Modeling'], ['Big Data / Scalability', 'Machine Learning (General/other)', 'Probabilistic Inference', 'Relational Probabilistic Models'], ['SAT and CSP: Solvers and Tools', 'Heuristic Search', 'Constraint Satisfaction'], ['Bayesian Learning', 'Data Mining and Knowledge Discovery', 'Graphical Model Learning', 'Unsupervised Learning (Other)'], ['Action, Change, and Causality', 'Bayesian Networks'], ['Preferences/Ranking Learning'], ['Social Choice / Voting'], ['E-Commerce', 'Game Theory', 'Mechanism Design', 'Uncertainty in AI (General/Other)'], ['Game Theory', 'Mechanism Design', 'Social Choice / Voting'], ['Coordination and Collaboration', 'Game Theory', 'Mechanism Design', 'Social Networks'], ['Constraint Optimization', 'Optimization', 'Ontologies', 'Clustering', 'Unsupervised Learning (Other)', 'Machine Learning (General/other)', 'Constraint Satisfaction'], ['Clustering', 'Data Mining and Knowledge Discovery'], ['Bayesian Networks', 'Graphical Models (Other)', 'Probabilistic Inference'], ['Negotiation and Contract-Based Systems', 'Human-Computer Interaction'], ['Classification'], ['Constraint Optimization', 'SAT and CSP: Evaluation and Analysis', 'SAT and CSP: Modeling/Formulations', 'SAT and CSP: Solvers and Tools', 'Graphical Models (Other)', 'Probabilistic Inference', 'Relational Probabilistic Models'], ['Online Learning', 'E-Commerce'], ['Nonmonotonic Reasoning', 'Preferences', 'Qualitative Reasoning'], ['Game Theory'], ['Heuristic Search', 'Evaluation and Analysis (Search and Optimization)', 'Search (General/Other)'], ['Preferences', 'Social Choice / Voting'], ['Dimension Reduction/Feature Selection', 'Transfer, Adaptation, Multitask Learning', 'Machine Learning (General/other)'], ['Other Applications', 'Human-Computer Interaction', 'Vision, Object Recognition, and Perception'], ['Automated Reasoning and Theorem Proving', 'Uncertainty in AI (General/Other)'], ['Action, Change, and Causality'], ['Big Data / Scalability', 'Kernel Methods', 'Online Learning'], ['Computational Social Science', 'Human-Computer Interaction'], ['Optimization', 'Other Applications', 'Deterministic Planning', 'Planning (General/Other)'], ['Negotiation and Contract-Based Systems', 'Multiagent Systems (General/other)'], ['Bayesian Learning', 'Clustering', 'Unsupervised Learning (Other)'], ['Classification'], ['Dimension Reduction/Feature Selection', 'Neural Networks/Deep Learning', 'Unsupervised Learning (Other)', 'Machine Learning (General/other)'], ['Heuristic Search', 'Optimization', 'Dimension Reduction/Feature Selection'], ['Information Retrieval', 'Biomedical / Bioinformatics', 'Social Networks'], ['Clustering', 'Evaluation and Analysis (Machine Learning)'], ['Data Mining and Knowledge Discovery', 'AI and Natural Sciences'], ['Constraint Satisfaction (General/other)', 'Constraint Satisfaction'], ['SAT and CSP: Solvers and Tools', 'Heuristic Search', 'Logic Programming', 'Knowledge Representation (General/Other)'], ['Social Choice / Voting'], ['Coordination and Collaboration', 'Multiagent Systems (General/other)'], ['Optimization', 'Clustering', 'Kernel Methods'], ['Distributed Search', 'Mechanism Design', 'Multiagent Planning', 'Deterministic Planning'], ['Constraint Optimization', 'Constraint Satisfaction (General/other)', 'Geometric, Spatial, and Temporal Reasoning', 'Scheduling'], ['Unsupervised Learning (Other)', 'Machine Learning (General/other)'], ['Game Theory', 'Social Choice / Voting'], ['Human-Robot Interaction', 'Vision, Object Recognition, and Perception'], ['Discourse and Dialogue', 'Semantics and Summarization', 'Natural Language Processing (General/Other)'], ['Multiagent Planning', 'Planning (General/Other)'], ['Action, Change, and Causality', 'Belief Change', 'Reasoning with Beliefs'], ['Data Mining and Knowledge Discovery', 'Social Networks'], ['Intelligent User Interfaces', 'Other Multidisciplinary Topics', 'Natural Language Processing (General/Other)'], ['Action, Change, and Causality', 'Knowledge Representation (General/Other)', 'Games and Game Playing'], ['Classification', 'Supervised Learning (Other)', 'Machine Learning (General/other)'], ['Text Classification', 'Natural Language Processing (General/Other)'], ['Preferences/Ranking Learning', 'Supervised Learning (Other)', 'Machine Learning (General/other)'], ['SAT and CSP: Evaluation and Analysis', 'Constraint Satisfaction'], ['Game Theory', 'Multiagent Learning'], ['Preferences', 'Social Choice / Voting'], ['Kernel Methods'], ['E-Commerce', 'Evaluation and Analysis (Multiagent Systems)', 'Multiagent Systems (General/other)'], ['Heuristic Search', 'Deterministic Planning'], ['Classification', 'Ensemble Methods', 'Kernel Methods', 'Semisupervised Learning'], ['Geometric, Spatial, and Temporal Reasoning', 'Temporal Planning', 'Constraint Satisfaction'], ['Logic Programming', 'Nonmonotonic Reasoning'], ['Global Constraints', 'Art and Music', 'Interactive Entertainment', 'Natural Language Processing (General/Other)', 'Constraint Satisfaction'], ['E-Commerce', 'Game Theory', 'Mechanism Design', 'Multiagent Systems (General/other)'], ['Ontologies', 'Knowledge-Based Systems (General/Other)', 'Computational Complexity of Reasoning', 'Description Logics'], ['Semantics and Summarization'], ['Mechanism Design', 'Sequential Decision Making'], ['Classification', 'Preferences/Ranking Learning'], ['Logic Programming', 'Nonmonotonic Reasoning'], ['Agent Communication', 'Planning (General/Other)'], ['Constraint Satisfaction (General/other)'], ['Data Mining and Knowledge Discovery'], ['Graphical Models (Other)', 'Probabilistic Inference', 'Relational Probabilistic Models'], ['Game Theory', 'Multiagent Learning', 'Evaluation and Analysis (Multiagent Systems)', 'Multiagent Systems (General/other)'], ['Bayesian Learning', 'Auctions and Market-Based Systems', 'Coordination and Collaboration', 'Game Theory', 'Mechanism Design', 'Computational Social Science', 'Human-Computer Interaction', 'Decision/Utility Theory', 'Probabilistic Inference', 'Uncertainty in AI (General/Other)'], ['Constraint Satisfaction'], ['Active Learning', 'Classification'], ['Information Extraction', 'Natural Language Processing (General/Other)'], ['Classification', 'Structured Prediction'], ['Knowledge Representation (General/Other)'], ['Cognitive Modeling', 'Vision, Object Recognition, and Perception', 'Robotics (General/Other)'], ['Classification', 'Supervised Learning (Other)', 'Computer-Aided Education', 'Cognitive Modeling'], ['Game Theory'], ['Coordination and Collaboration', 'Game Theory'], ['Preferences/Ranking Learning', 'Relational/Graph-Based Learning', 'Computational Social Science'], ['Optimization', 'Evolutionary Computation', 'Supervised Learning (Other)', 'Games and Game Playing'], ['Constraint Optimization', 'Heuristic Search', 'Optimization', 'Metareasoning and Metaheuristics', 'Evaluation and Analysis (Search and Optimization)', 'Search (General/Other)', 'Biomedical / Bioinformatics'], ['Structured Prediction'], ['Relational/Graph-Based Learning'], ['Optimization', 'Dimension Reduction/Feature Selection', 'Supervised Learning (Other)'], ['Dimension Reduction/Feature Selection', 'Unsupervised Learning (Other)'], ['Data Mining and Knowledge Discovery', 'Transfer, Adaptation, Multitask Learning'], ['Computational Complexity of Reasoning', 'Case-Based Reasoning', 'Replanning and Plan Repair', 'Planning (General/Other)'], ['Reinforcement Learning', 'Sequential Decision Making'], ['Diagnosis and Abductive Reasoning', 'Reasoning with Beliefs', 'Bayesian Learning', 'Uncertainty in AI (General/Other)'], ['Scheduling', 'Temporal Planning', 'Planning (General/Other)'], ['Classification', 'Kernel Methods', 'Supervised Learning (Other)'], ['Clustering', 'Data Mining and Knowledge Discovery'], ['Classification', 'Dimension Reduction/Feature Selection', 'Biomedical / Bioinformatics'], ['Metareasoning and Metaheuristics', 'Common-Sense Reasoning', 'Knowledge Representation Languages', 'Logic Programming', 'Nonmonotonic Reasoning'], ['SAT and CSP: Solvers and Tools', 'Satisfiability (General/Other)'], ['Machine Learning (General/other)', 'Cognitive Robotics', 'Vision, Object Recognition, and Perception', 'Robotics (General/Other)'], ['Data Mining and Knowledge Discovery', 'Unsupervised Learning (Other)', 'Natural Language Processing (General/Other)'], ['Agent/AI Theories and Architectures', 'Evaluation and Analysis (Multiagent Systems)', 'Multiagent Systems (General/other)'], ['Reinforcement Learning', 'Multiagent Learning', 'Multiagent Planning'], ['Computational Complexity of Reasoning', 'Bayesian Networks', 'Graphical Models (Other)'], ['Machine Learning (General/other)', 'Natural Language Processing (General/Other)', 'Vision, Object Recognition, and Perception'], ['Common-Sense Reasoning', 'Diagnosis and Abductive Reasoning', 'Planning (General/Other)'], ['Evaluation and Analysis (Multiagent Systems)', 'Human-Computer Interaction', 'Security and Privacy'], ['Action, Change, and Causality', 'Diagnosis and Abductive Reasoning', 'Other Applications', 'Model-Based Reasoning', 'Planning (General/Other)'], ['Game Theory', 'Multiagent Systems (General/other)'], ['Coordination and Collaboration', 'Distributed Problem Solving', 'Scheduling', 'Temporal Planning'], ['Transfer, Adaptation, Multitask Learning', 'Coordination and Collaboration', 'Multiagent Learning'], ['SAT and CSP: Evaluation and Analysis', 'SAT and CSP: Solvers and Tools', 'Evaluation and Analysis (Search and Optimization)'], ['Action, Change, and Causality', 'Geometric, Spatial, and Temporal Reasoning', 'Classification', 'Clustering', 'Learning Models for Planning and Diagnosis'], ['Heuristic Search', 'Replanning and Plan Repair', 'Motion and Path Planning'], ['Information Extraction'], ['Logic Programming', 'Nonmonotonic Reasoning', 'Multi-Robot Systems'], ['Reinforcement Learning', 'Coordination and Collaboration', 'Multiagent Learning'], ['Reinforcement Learning', 'Multiagent Learning'], ['SAT and CSP: Evaluation and Analysis', 'SAT and CSP: Solvers and Tools', 'Satisfiability (General/Other)'], ['Social Choice / Voting'], ['Reinforcement Learning'], ['Reinforcement Learning'], ['Planning (General/Other)', 'Uncertainty in AI (General/Other)'], ['Agent-based Simulation and Emergent Behavior', 'Computational Social Science', 'Social Networks'], ['Unsupervised Learning (Other)', 'Natural Language Processing (General/Other)'], ['Case-Based Reasoning', 'Deterministic Planning', 'Planning (General/Other)'], ['Active Learning', 'Transfer, Adaptation, Multitask Learning'], ['Big Data / Scalability', 'Graphical Model Learning', 'Structured Prediction'], ['Information Extraction', 'Question Answering', 'Natural Language Processing (General/Other)'], [['Knowledge-Based Systems (General/Other)', 'Machine Learning (General/other)', 'Interactive Entertainment', 'Cognitive Modeling'], ['Optimization', 'Online Learning', 'Time-Series/Data Streams', 'Machine Learning (General/other)', 'Other Applications']], [['Natural Language Processing (General/Other)', 'Robotics (General/Other)'], ['Natural Language Processing (General/Other)']], [['Game Theory', 'Mechanism Design'], ['Optimization', 'Game Theory']]]\n"
     ]
    },
    {
     "name": "stdout",
     "output_type": "stream",
     "text": [
      "143 139\n",
      "[['Auctions and Market-Based Systems', 'E-Commerce', 'Game Theory', 'Mechanism Design'], ['Dimension Reduction/Feature Selection', 'Online Learning', 'Reinforcement Learning', 'Sequential Decision Making'], ['Coordination and Collaboration', 'Game Theory'], ['Heuristic Search', 'Evaluation and Analysis (Search and Optimization)', 'Search (General/Other)'], ['Auctions and Market-Based Systems', 'E-Commerce', 'Mechanism Design'], ['Vision, Object Recognition, and Perception'], ['Relational/Graph-Based Learning', 'Semisupervised Learning'], ['Action, Change, and Causality'], ['Mechanism Design', 'Social Choice / Voting'], ['Search (General/Other)', 'Information Retrieval', 'Machine Learning (General/other)'], ['Distributed Problem Solving', 'Computational Social Science', 'Decision/Utility Theory'], ['Cognitive Modeling'], ['Big Data / Scalability', 'Machine Learning (General/other)', 'Probabilistic Inference', 'Relational Probabilistic Models'], ['SAT and CSP: Solvers and Tools', 'Heuristic Search', 'Constraint Satisfaction'], ['Bayesian Learning', 'Data Mining and Knowledge Discovery', 'Graphical Model Learning', 'Unsupervised Learning (Other)'], ['Action, Change, and Causality', 'Bayesian Networks'], ['Preferences/Ranking Learning'], ['Social Choice / Voting'], ['E-Commerce', 'Game Theory', 'Mechanism Design', 'Uncertainty in AI (General/Other)'], ['Game Theory', 'Mechanism Design', 'Social Choice / Voting'], ['Coordination and Collaboration', 'Game Theory', 'Mechanism Design', 'Social Networks'], ['Constraint Optimization', 'Optimization', 'Ontologies', 'Clustering', 'Unsupervised Learning (Other)', 'Machine Learning (General/other)', 'Constraint Satisfaction'], ['Clustering', 'Data Mining and Knowledge Discovery'], ['Bayesian Networks', 'Graphical Models (Other)', 'Probabilistic Inference'], ['Negotiation and Contract-Based Systems', 'Human-Computer Interaction'], ['Classification'], ['Constraint Optimization', 'SAT and CSP: Evaluation and Analysis', 'SAT and CSP: Modeling/Formulations', 'SAT and CSP: Solvers and Tools', 'Graphical Models (Other)', 'Probabilistic Inference', 'Relational Probabilistic Models'], ['Online Learning', 'E-Commerce'], ['Nonmonotonic Reasoning', 'Preferences', 'Qualitative Reasoning'], ['Game Theory'], ['Heuristic Search', 'Evaluation and Analysis (Search and Optimization)', 'Search (General/Other)'], ['Preferences', 'Social Choice / Voting'], ['Dimension Reduction/Feature Selection', 'Transfer, Adaptation, Multitask Learning', 'Machine Learning (General/other)'], ['Other Applications', 'Human-Computer Interaction', 'Vision, Object Recognition, and Perception'], ['Automated Reasoning and Theorem Proving', 'Uncertainty in AI (General/Other)'], ['Action, Change, and Causality'], ['Big Data / Scalability', 'Kernel Methods', 'Online Learning'], ['Computational Social Science', 'Human-Computer Interaction'], ['Optimization', 'Other Applications', 'Deterministic Planning', 'Planning (General/Other)'], ['Negotiation and Contract-Based Systems', 'Multiagent Systems (General/other)'], ['Bayesian Learning', 'Clustering', 'Unsupervised Learning (Other)'], ['Classification'], ['Dimension Reduction/Feature Selection', 'Neural Networks/Deep Learning', 'Unsupervised Learning (Other)', 'Machine Learning (General/other)'], ['Heuristic Search', 'Optimization', 'Dimension Reduction/Feature Selection'], ['Information Retrieval', 'Biomedical / Bioinformatics', 'Social Networks'], ['Clustering', 'Evaluation and Analysis (Machine Learning)'], ['Data Mining and Knowledge Discovery', 'AI and Natural Sciences'], ['Constraint Satisfaction (General/other)', 'Constraint Satisfaction'], ['SAT and CSP: Solvers and Tools', 'Heuristic Search', 'Logic Programming', 'Knowledge Representation (General/Other)'], ['Social Choice / Voting'], ['Coordination and Collaboration', 'Multiagent Systems (General/other)'], ['Optimization', 'Clustering', 'Kernel Methods'], ['Distributed Search', 'Mechanism Design', 'Multiagent Planning', 'Deterministic Planning'], ['Constraint Optimization', 'Constraint Satisfaction (General/other)', 'Geometric, Spatial, and Temporal Reasoning', 'Scheduling'], ['Unsupervised Learning (Other)', 'Machine Learning (General/other)'], ['Game Theory', 'Social Choice / Voting'], ['Human-Robot Interaction', 'Vision, Object Recognition, and Perception'], ['Discourse and Dialogue', 'Semantics and Summarization', 'Natural Language Processing (General/Other)'], ['Multiagent Planning', 'Planning (General/Other)'], ['Action, Change, and Causality', 'Belief Change', 'Reasoning with Beliefs'], ['Data Mining and Knowledge Discovery', 'Social Networks'], ['Intelligent User Interfaces', 'Other Multidisciplinary Topics', 'Natural Language Processing (General/Other)'], ['Action, Change, and Causality', 'Knowledge Representation (General/Other)', 'Games and Game Playing'], ['Classification', 'Supervised Learning (Other)', 'Machine Learning (General/other)'], ['Text Classification', 'Natural Language Processing (General/Other)'], ['Preferences/Ranking Learning', 'Supervised Learning (Other)', 'Machine Learning (General/other)'], ['SAT and CSP: Evaluation and Analysis', 'Constraint Satisfaction'], ['Game Theory', 'Multiagent Learning'], ['Preferences', 'Social Choice / Voting'], ['Kernel Methods'], ['E-Commerce', 'Evaluation and Analysis (Multiagent Systems)', 'Multiagent Systems (General/other)'], ['Heuristic Search', 'Deterministic Planning'], ['Classification', 'Ensemble Methods', 'Kernel Methods', 'Semisupervised Learning'], ['Geometric, Spatial, and Temporal Reasoning', 'Temporal Planning', 'Constraint Satisfaction'], ['Logic Programming', 'Nonmonotonic Reasoning'], ['Global Constraints', 'Art and Music', 'Interactive Entertainment', 'Natural Language Processing (General/Other)', 'Constraint Satisfaction'], ['E-Commerce', 'Game Theory', 'Mechanism Design', 'Multiagent Systems (General/other)'], ['Ontologies', 'Knowledge-Based Systems (General/Other)', 'Computational Complexity of Reasoning', 'Description Logics'], ['Semantics and Summarization'], ['Mechanism Design', 'Sequential Decision Making'], ['Classification', 'Preferences/Ranking Learning'], ['Logic Programming', 'Nonmonotonic Reasoning'], ['Agent Communication', 'Planning (General/Other)'], ['Constraint Satisfaction (General/other)'], ['Data Mining and Knowledge Discovery'], ['Graphical Models (Other)', 'Probabilistic Inference', 'Relational Probabilistic Models'], ['Game Theory', 'Multiagent Learning', 'Evaluation and Analysis (Multiagent Systems)', 'Multiagent Systems (General/other)'], ['Bayesian Learning', 'Auctions and Market-Based Systems', 'Coordination and Collaboration', 'Game Theory', 'Mechanism Design', 'Computational Social Science', 'Human-Computer Interaction', 'Decision/Utility Theory', 'Probabilistic Inference', 'Uncertainty in AI (General/Other)'], ['Constraint Satisfaction'], ['Active Learning', 'Classification'], ['Information Extraction', 'Natural Language Processing (General/Other)'], ['Classification', 'Structured Prediction'], ['Knowledge Representation (General/Other)'], ['Cognitive Modeling', 'Vision, Object Recognition, and Perception', 'Robotics (General/Other)'], ['Classification', 'Supervised Learning (Other)', 'Computer-Aided Education', 'Cognitive Modeling'], ['Game Theory'], ['Coordination and Collaboration', 'Game Theory'], ['Preferences/Ranking Learning', 'Relational/Graph-Based Learning', 'Computational Social Science'], ['Optimization', 'Evolutionary Computation', 'Supervised Learning (Other)', 'Games and Game Playing'], ['Constraint Optimization', 'Heuristic Search', 'Optimization', 'Metareasoning and Metaheuristics', 'Evaluation and Analysis (Search and Optimization)', 'Search (General/Other)', 'Biomedical / Bioinformatics'], ['Structured Prediction'], ['Relational/Graph-Based Learning'], ['Optimization', 'Dimension Reduction/Feature Selection', 'Supervised Learning (Other)'], ['Dimension Reduction/Feature Selection', 'Unsupervised Learning (Other)'], ['Data Mining and Knowledge Discovery', 'Transfer, Adaptation, Multitask Learning'], ['Computational Complexity of Reasoning', 'Case-Based Reasoning', 'Replanning and Plan Repair', 'Planning (General/Other)'], ['Reinforcement Learning', 'Sequential Decision Making'], ['Diagnosis and Abductive Reasoning', 'Reasoning with Beliefs', 'Bayesian Learning', 'Uncertainty in AI (General/Other)'], ['Scheduling', 'Temporal Planning', 'Planning (General/Other)'], ['Classification', 'Kernel Methods', 'Supervised Learning (Other)'], ['Clustering', 'Data Mining and Knowledge Discovery'], ['Classification', 'Dimension Reduction/Feature Selection', 'Biomedical / Bioinformatics'], ['Metareasoning and Metaheuristics', 'Common-Sense Reasoning', 'Knowledge Representation Languages', 'Logic Programming', 'Nonmonotonic Reasoning'], ['SAT and CSP: Solvers and Tools', 'Satisfiability (General/Other)'], ['Machine Learning (General/other)', 'Cognitive Robotics', 'Vision, Object Recognition, and Perception', 'Robotics (General/Other)'], ['Data Mining and Knowledge Discovery', 'Unsupervised Learning (Other)', 'Natural Language Processing (General/Other)'], ['Agent/AI Theories and Architectures', 'Evaluation and Analysis (Multiagent Systems)', 'Multiagent Systems (General/other)'], ['Reinforcement Learning', 'Multiagent Learning', 'Multiagent Planning'], ['Computational Complexity of Reasoning', 'Bayesian Networks', 'Graphical Models (Other)'], ['Machine Learning (General/other)', 'Natural Language Processing (General/Other)', 'Vision, Object Recognition, and Perception'], ['Common-Sense Reasoning', 'Diagnosis and Abductive Reasoning', 'Planning (General/Other)'], ['Evaluation and Analysis (Multiagent Systems)', 'Human-Computer Interaction', 'Security and Privacy'], ['Action, Change, and Causality', 'Diagnosis and Abductive Reasoning', 'Other Applications', 'Model-Based Reasoning', 'Planning (General/Other)'], ['Game Theory', 'Multiagent Systems (General/other)'], ['Coordination and Collaboration', 'Distributed Problem Solving', 'Scheduling', 'Temporal Planning'], ['Transfer, Adaptation, Multitask Learning', 'Coordination and Collaboration', 'Multiagent Learning'], ['SAT and CSP: Evaluation and Analysis', 'SAT and CSP: Solvers and Tools', 'Evaluation and Analysis (Search and Optimization)'], ['Action, Change, and Causality', 'Geometric, Spatial, and Temporal Reasoning', 'Classification', 'Clustering', 'Learning Models for Planning and Diagnosis'], ['Heuristic Search', 'Replanning and Plan Repair', 'Motion and Path Planning'], ['Information Extraction'], ['Logic Programming', 'Nonmonotonic Reasoning', 'Multi-Robot Systems'], ['Reinforcement Learning', 'Coordination and Collaboration', 'Multiagent Learning'], ['Reinforcement Learning', 'Multiagent Learning'], ['SAT and CSP: Evaluation and Analysis', 'SAT and CSP: Solvers and Tools', 'Satisfiability (General/Other)'], ['Social Choice / Voting'], ['Reinforcement Learning'], ['Reinforcement Learning'], ['Planning (General/Other)', 'Uncertainty in AI (General/Other)'], ['Agent-based Simulation and Emergent Behavior', 'Computational Social Science', 'Social Networks'], ['Case-Based Reasoning', 'Deterministic Planning', 'Planning (General/Other)'], ['Active Learning', 'Transfer, Adaptation, Multitask Learning'], ['Big Data / Scalability', 'Graphical Model Learning', 'Structured Prediction'], [['Knowledge-Based Systems (General/Other)', 'Machine Learning (General/other)', 'Interactive Entertainment', 'Cognitive Modeling'], ['Optimization', 'Online Learning', 'Time-Series/Data Streams', 'Machine Learning (General/other)', 'Other Applications']], [['Natural Language Processing (General/Other)', 'Robotics (General/Other)'], ['Natural Language Processing (General/Other)']], [['Game Theory', 'Mechanism Design'], ['Optimization', 'Game Theory']], [['Information Extraction', 'Question Answering', 'Natural Language Processing (General/Other)'], ['Unsupervised Learning (Other)', 'Natural Language Processing (General/Other)']]]\n"
     ]
    },
    {
     "name": "stdout",
     "output_type": "stream",
     "text": [
      "143 145\n"
     ]
    },
    {
     "ename": "ValueError",
     "evalue": "list.remove(x): x not in list",
     "output_type": "error",
     "traceback": [
      "\u001b[0;31m---------------------------------------------------------------------------\u001b[0m",
      "\u001b[0;31mValueError\u001b[0m                                Traceback (most recent call last)",
      "\u001b[0;32m<ipython-input-12-eb7712b91806>\u001b[0m in \u001b[0;36m<module>\u001b[0;34m\u001b[0m\n\u001b[0;32m----> 1\u001b[0;31m \u001b[0mcluster\u001b[0m\u001b[0;34m=\u001b[0m \u001b[0mhier_clust\u001b[0m\u001b[0;34m(\u001b[0m\u001b[0mtopic\u001b[0m\u001b[0;34m,\u001b[0m\u001b[0;36m9\u001b[0m\u001b[0;34m,\u001b[0m\u001b[0;34m'single_linkage'\u001b[0m\u001b[0;34m)\u001b[0m\u001b[0;34m\u001b[0m\u001b[0;34m\u001b[0m\u001b[0m\n\u001b[0m",
      "\u001b[0;32m<ipython-input-11-35477cb4b3a1>\u001b[0m in \u001b[0;36mhier_clust\u001b[0;34m(topic, n, method)\u001b[0m\n\u001b[1;32m     28\u001b[0m         \u001b[0mcluster1\u001b[0m\u001b[0;34m.\u001b[0m\u001b[0mappend\u001b[0m\u001b[0;34m(\u001b[0m\u001b[0mmax_j\u001b[0m\u001b[0;34m)\u001b[0m\u001b[0;34m\u001b[0m\u001b[0;34m\u001b[0m\u001b[0m\n\u001b[1;32m     29\u001b[0m         \u001b[0mtopic1\u001b[0m\u001b[0;34m.\u001b[0m\u001b[0mappend\u001b[0m\u001b[0;34m(\u001b[0m\u001b[0mtopic\u001b[0m\u001b[0;34m[\u001b[0m\u001b[0mmax_j\u001b[0m\u001b[0;34m]\u001b[0m\u001b[0;34m)\u001b[0m\u001b[0;34m\u001b[0m\u001b[0;34m\u001b[0m\u001b[0m\n\u001b[0;32m---> 30\u001b[0;31m         \u001b[0mcluster\u001b[0m\u001b[0;34m.\u001b[0m\u001b[0mremove\u001b[0m\u001b[0;34m(\u001b[0m\u001b[0mmax_i\u001b[0m\u001b[0;34m)\u001b[0m\u001b[0;34m\u001b[0m\u001b[0;34m\u001b[0m\u001b[0m\n\u001b[0m\u001b[1;32m     31\u001b[0m         \u001b[0mtopic\u001b[0m\u001b[0;34m.\u001b[0m\u001b[0mremove\u001b[0m\u001b[0;34m(\u001b[0m\u001b[0mtopic\u001b[0m\u001b[0;34m[\u001b[0m\u001b[0mmax_i\u001b[0m\u001b[0;34m]\u001b[0m\u001b[0;34m)\u001b[0m\u001b[0;34m\u001b[0m\u001b[0;34m\u001b[0m\u001b[0m\n\u001b[1;32m     32\u001b[0m         \u001b[0mcluster\u001b[0m\u001b[0;34m.\u001b[0m\u001b[0mremove\u001b[0m\u001b[0;34m(\u001b[0m\u001b[0mmax_j\u001b[0m\u001b[0;34m)\u001b[0m\u001b[0;34m\u001b[0m\u001b[0;34m\u001b[0m\u001b[0m\n",
      "\u001b[0;31mValueError\u001b[0m: list.remove(x): x not in list"
     ]
    }
   ],
   "source": [
    "cluster= hier_clust(topic,9,'single_linkage')"
   ]
  },
  {
   "cell_type": "code",
   "execution_count": null,
   "metadata": {},
   "outputs": [],
   "source": [
    "set_i_j=set(a+b)\n",
    "return((len(a)+len(b)-len(set_i_j))/len(set_i_j))"
   ]
  },
  {
   "cell_type": "code",
   "execution_count": null,
   "metadata": {},
   "outputs": [],
   "source": []
  }
 ],
 "metadata": {
  "kernelspec": {
   "display_name": "Python 3",
   "language": "python",
   "name": "python3"
  },
  "language_info": {
   "codemirror_mode": {
    "name": "ipython",
    "version": 3
   },
   "file_extension": ".py",
   "mimetype": "text/x-python",
   "name": "python",
   "nbconvert_exporter": "python",
   "pygments_lexer": "ipython3",
   "version": "3.7.1"
  }
 },
 "nbformat": 4,
 "nbformat_minor": 2
}
